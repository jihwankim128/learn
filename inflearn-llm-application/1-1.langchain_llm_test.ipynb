{
 "cells": [
  {
   "cell_type": "code",
   "execution_count": null,
   "metadata": {},
   "outputs": [
    {
     "name": "stdout",
     "output_type": "stream",
     "text": [
      "Requirement already satisfied: langchain-upstage in /Users/dot/.pyenv/versions/3.10/envs/inflearn-llm-application/lib/python3.13/site-packages (0.1.7)\n",
      "Requirement already satisfied: python-dotenv in /Users/dot/.pyenv/versions/3.10/envs/inflearn-llm-application/lib/python3.13/site-packages (1.0.1)\n",
      "Collecting langchain-core<0.3,>=0.2.2 (from langchain-upstage)\n",
      "  Using cached langchain_core-0.2.43-py3-none-any.whl.metadata (6.2 kB)\n",
      "Requirement already satisfied: langchain-openai<0.2.0,>=0.1.3 in /Users/dot/.pyenv/versions/3.10/envs/inflearn-llm-application/lib/python3.13/site-packages (from langchain-upstage) (0.1.25)\n",
      "Requirement already satisfied: pypdf<5.0.0,>=4.2.0 in /Users/dot/.pyenv/versions/3.10/envs/inflearn-llm-application/lib/python3.13/site-packages (from langchain-upstage) (4.3.1)\n",
      "Requirement already satisfied: requests<3.0.0,>=2.31.0 in /Users/dot/.pyenv/versions/3.10/envs/inflearn-llm-application/lib/python3.13/site-packages (from langchain-upstage) (2.32.3)\n",
      "Requirement already satisfied: PyYAML>=5.3 in /Users/dot/.pyenv/versions/3.10/envs/inflearn-llm-application/lib/python3.13/site-packages (from langchain-core<0.3,>=0.2.2->langchain-upstage) (6.0.2)\n",
      "Requirement already satisfied: jsonpatch<2.0,>=1.33 in /Users/dot/.pyenv/versions/3.10/envs/inflearn-llm-application/lib/python3.13/site-packages (from langchain-core<0.3,>=0.2.2->langchain-upstage) (1.33)\n",
      "Requirement already satisfied: langsmith<0.2.0,>=0.1.112 in /Users/dot/.pyenv/versions/3.10/envs/inflearn-llm-application/lib/python3.13/site-packages (from langchain-core<0.3,>=0.2.2->langchain-upstage) (0.1.147)\n",
      "Requirement already satisfied: packaging<25,>=23.2 in /Users/dot/.pyenv/versions/3.10/envs/inflearn-llm-application/lib/python3.13/site-packages (from langchain-core<0.3,>=0.2.2->langchain-upstage) (24.2)\n",
      "Requirement already satisfied: pydantic<3.0.0,>=2.7.4 in /Users/dot/.pyenv/versions/3.10/envs/inflearn-llm-application/lib/python3.13/site-packages (from langchain-core<0.3,>=0.2.2->langchain-upstage) (2.10.6)\n",
      "Requirement already satisfied: tenacity!=8.4.0,<9.0.0,>=8.1.0 in /Users/dot/.pyenv/versions/3.10/envs/inflearn-llm-application/lib/python3.13/site-packages (from langchain-core<0.3,>=0.2.2->langchain-upstage) (8.5.0)\n",
      "Requirement already satisfied: typing-extensions>=4.7 in /Users/dot/.pyenv/versions/3.10/envs/inflearn-llm-application/lib/python3.13/site-packages (from langchain-core<0.3,>=0.2.2->langchain-upstage) (4.12.2)\n",
      "Requirement already satisfied: openai<2.0.0,>=1.40.0 in /Users/dot/.pyenv/versions/3.10/envs/inflearn-llm-application/lib/python3.13/site-packages (from langchain-openai<0.2.0,>=0.1.3->langchain-upstage) (1.61.1)\n",
      "Requirement already satisfied: tiktoken<1,>=0.7 in /Users/dot/.pyenv/versions/3.10/envs/inflearn-llm-application/lib/python3.13/site-packages (from langchain-openai<0.2.0,>=0.1.3->langchain-upstage) (0.8.0)\n",
      "Requirement already satisfied: charset-normalizer<4,>=2 in /Users/dot/.pyenv/versions/3.10/envs/inflearn-llm-application/lib/python3.13/site-packages (from requests<3.0.0,>=2.31.0->langchain-upstage) (3.4.1)\n",
      "Requirement already satisfied: idna<4,>=2.5 in /Users/dot/.pyenv/versions/3.10/envs/inflearn-llm-application/lib/python3.13/site-packages (from requests<3.0.0,>=2.31.0->langchain-upstage) (3.10)\n",
      "Requirement already satisfied: urllib3<3,>=1.21.1 in /Users/dot/.pyenv/versions/3.10/envs/inflearn-llm-application/lib/python3.13/site-packages (from requests<3.0.0,>=2.31.0->langchain-upstage) (2.3.0)\n",
      "Requirement already satisfied: certifi>=2017.4.17 in /Users/dot/.pyenv/versions/3.10/envs/inflearn-llm-application/lib/python3.13/site-packages (from requests<3.0.0,>=2.31.0->langchain-upstage) (2025.1.31)\n",
      "Requirement already satisfied: jsonpointer>=1.9 in /Users/dot/.pyenv/versions/3.10/envs/inflearn-llm-application/lib/python3.13/site-packages (from jsonpatch<2.0,>=1.33->langchain-core<0.3,>=0.2.2->langchain-upstage) (3.0.0)\n",
      "Requirement already satisfied: httpx<1,>=0.23.0 in /Users/dot/.pyenv/versions/3.10/envs/inflearn-llm-application/lib/python3.13/site-packages (from langsmith<0.2.0,>=0.1.112->langchain-core<0.3,>=0.2.2->langchain-upstage) (0.28.1)\n",
      "Requirement already satisfied: orjson<4.0.0,>=3.9.14 in /Users/dot/.pyenv/versions/3.10/envs/inflearn-llm-application/lib/python3.13/site-packages (from langsmith<0.2.0,>=0.1.112->langchain-core<0.3,>=0.2.2->langchain-upstage) (3.10.15)\n",
      "Requirement already satisfied: requests-toolbelt<2.0.0,>=1.0.0 in /Users/dot/.pyenv/versions/3.10/envs/inflearn-llm-application/lib/python3.13/site-packages (from langsmith<0.2.0,>=0.1.112->langchain-core<0.3,>=0.2.2->langchain-upstage) (1.0.0)\n",
      "Requirement already satisfied: anyio<5,>=3.5.0 in /Users/dot/.pyenv/versions/3.10/envs/inflearn-llm-application/lib/python3.13/site-packages (from openai<2.0.0,>=1.40.0->langchain-openai<0.2.0,>=0.1.3->langchain-upstage) (4.8.0)\n",
      "Requirement already satisfied: distro<2,>=1.7.0 in /Users/dot/.pyenv/versions/3.10/envs/inflearn-llm-application/lib/python3.13/site-packages (from openai<2.0.0,>=1.40.0->langchain-openai<0.2.0,>=0.1.3->langchain-upstage) (1.9.0)\n",
      "Requirement already satisfied: jiter<1,>=0.4.0 in /Users/dot/.pyenv/versions/3.10/envs/inflearn-llm-application/lib/python3.13/site-packages (from openai<2.0.0,>=1.40.0->langchain-openai<0.2.0,>=0.1.3->langchain-upstage) (0.8.2)\n",
      "Requirement already satisfied: sniffio in /Users/dot/.pyenv/versions/3.10/envs/inflearn-llm-application/lib/python3.13/site-packages (from openai<2.0.0,>=1.40.0->langchain-openai<0.2.0,>=0.1.3->langchain-upstage) (1.3.1)\n",
      "Requirement already satisfied: tqdm>4 in /Users/dot/.pyenv/versions/3.10/envs/inflearn-llm-application/lib/python3.13/site-packages (from openai<2.0.0,>=1.40.0->langchain-openai<0.2.0,>=0.1.3->langchain-upstage) (4.67.1)\n",
      "Requirement already satisfied: annotated-types>=0.6.0 in /Users/dot/.pyenv/versions/3.10/envs/inflearn-llm-application/lib/python3.13/site-packages (from pydantic<3.0.0,>=2.7.4->langchain-core<0.3,>=0.2.2->langchain-upstage) (0.7.0)\n",
      "Requirement already satisfied: pydantic-core==2.27.2 in /Users/dot/.pyenv/versions/3.10/envs/inflearn-llm-application/lib/python3.13/site-packages (from pydantic<3.0.0,>=2.7.4->langchain-core<0.3,>=0.2.2->langchain-upstage) (2.27.2)\n",
      "Requirement already satisfied: regex>=2022.1.18 in /Users/dot/.pyenv/versions/3.10/envs/inflearn-llm-application/lib/python3.13/site-packages (from tiktoken<1,>=0.7->langchain-openai<0.2.0,>=0.1.3->langchain-upstage) (2024.11.6)\n",
      "Requirement already satisfied: httpcore==1.* in /Users/dot/.pyenv/versions/3.10/envs/inflearn-llm-application/lib/python3.13/site-packages (from httpx<1,>=0.23.0->langsmith<0.2.0,>=0.1.112->langchain-core<0.3,>=0.2.2->langchain-upstage) (1.0.7)\n",
      "Requirement already satisfied: h11<0.15,>=0.13 in /Users/dot/.pyenv/versions/3.10/envs/inflearn-llm-application/lib/python3.13/site-packages (from httpcore==1.*->httpx<1,>=0.23.0->langsmith<0.2.0,>=0.1.112->langchain-core<0.3,>=0.2.2->langchain-upstage) (0.14.0)\n",
      "Using cached langchain_core-0.2.43-py3-none-any.whl (397 kB)\n",
      "Installing collected packages: langchain-core\n",
      "  Attempting uninstall: langchain-core\n",
      "    Found existing installation: langchain-core 0.3.35\n",
      "    Uninstalling langchain-core-0.3.35:\n",
      "      Successfully uninstalled langchain-core-0.3.35\n",
      "\u001b[31mERROR: pip's dependency resolver does not currently take into account all the packages that are installed. This behaviour is the source of the following dependency conflicts.\n",
      "langchain-community 0.3.17 requires langchain-core<1.0.0,>=0.3.34, but you have langchain-core 0.2.43 which is incompatible.\n",
      "langchain 0.3.18 requires langchain-core<1.0.0,>=0.3.34, but you have langchain-core 0.2.43 which is incompatible.\n",
      "langchain-text-splitters 0.3.6 requires langchain-core<1.0.0,>=0.3.34, but you have langchain-core 0.2.43 which is incompatible.\u001b[0m\u001b[31m\n",
      "\u001b[0mSuccessfully installed langchain-core-0.2.43\n",
      "Note: you may need to restart the kernel to use updated packages.\n"
     ]
    }
   ],
   "source": [
    "#%pip install --only-binary :all: langchain-upstage python-dotenv"
   ]
  },
  {
   "cell_type": "code",
   "execution_count": 3,
   "metadata": {},
   "outputs": [
    {
     "data": {
      "text/plain": [
       "True"
      ]
     },
     "execution_count": 3,
     "metadata": {},
     "output_type": "execute_result"
    }
   ],
   "source": [
    "from dotenv import load_dotenv\n",
    "\n",
    "load_dotenv()"
   ]
  },
  {
   "cell_type": "code",
   "execution_count": 4,
   "metadata": {},
   "outputs": [],
   "source": [
    "from langchain_upstage import ChatUpstage\n",
    "\n",
    "llm = ChatUpstage()"
   ]
  },
  {
   "cell_type": "code",
   "execution_count": null,
   "metadata": {},
   "outputs": [
    {
     "data": {
      "text/plain": [
       "AIMessage(content='안녕하세요! 저는 Upstage의 AI 챗봇인 Solar입니다. 반가워요! 저는 여러분이 궁금한 점을 해결해 드리고, 다양한 주제에 대해 대화를 나누기 위해 여기에 있습니다. 언제든지 말씀해주세요!', additional_kwargs={'refusal': None}, response_metadata={'token_usage': {'completion_tokens': 46, 'prompt_tokens': 15, 'total_tokens': 61, 'completion_tokens_details': None, 'prompt_tokens_details': None}, 'model_name': 'solar-mini-250123', 'system_fingerprint': None, 'finish_reason': 'stop', 'logprobs': None}, id='run-ca6bb60e-d5b8-404e-94d0-425edc0f4ad0-0', usage_metadata={'input_tokens': 15, 'output_tokens': 46, 'total_tokens': 61})"
      ]
     },
     "execution_count": 5,
     "metadata": {},
     "output_type": "execute_result"
    }
   ],
   "source": [
    "ai_message = llm.invoke(\"안녕, 반가워?\")\n",
    "ai_message.content;"
   ]
  }
 ],
 "metadata": {
  "kernelspec": {
   "display_name": "inflearn-llm-application",
   "language": "python",
   "name": "python3"
  },
  "language_info": {
   "codemirror_mode": {
    "name": "ipython",
    "version": 3
   },
   "file_extension": ".py",
   "mimetype": "text/x-python",
   "name": "python",
   "nbconvert_exporter": "python",
   "pygments_lexer": "ipython3",
   "version": "3.13.2"
  }
 },
 "nbformat": 4,
 "nbformat_minor": 2
}
