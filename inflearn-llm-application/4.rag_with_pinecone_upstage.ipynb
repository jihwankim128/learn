{
 "cells": [
  {
   "cell_type": "markdown",
   "metadata": {},
   "source": [
    "1. 문서의 내용을 읽는다\n",
    "2. 문서를 쪼갠다\n",
    "    - 토큰 수 초과로 답변을 생성하지못한다.\n",
    "    - 문서가 길면(인풋이 길면) 답변 생성이 오래 걸린다.\n",
    "3. 임베딩 -> 벡터 DB에 저장\n",
    "4. 질문이 있을 때, 벡터 DB에서 유사도 검색\n",
    "5. 유사도 검색으로 가져온 문서를 LLM에 질문과 같이 전달"
   ]
  },
  {
   "cell_type": "code",
   "execution_count": 6,
   "metadata": {},
   "outputs": [
    {
     "name": "stdout",
     "output_type": "stream",
     "text": [
      "Requirement already satisfied: pip in /Users/dot/.pyenv/versions/3.10.16/lib/python3.10/site-packages (25.0.1)\n",
      "Note: you may need to restart the kernel to use updated packages.\n",
      "Requirement already satisfied: langchain in /Users/dot/.pyenv/versions/3.10.16/lib/python3.10/site-packages (0.3.18)\n",
      "Requirement already satisfied: langchain-community in /Users/dot/.pyenv/versions/3.10.16/lib/python3.10/site-packages (0.3.17)\n",
      "Requirement already satisfied: langchain-upstage in /Users/dot/.pyenv/versions/3.10.16/lib/python3.10/site-packages (0.6.0)\n",
      "Requirement already satisfied: langchain-text-splitters in /Users/dot/.pyenv/versions/3.10.16/lib/python3.10/site-packages (0.3.6)\n",
      "Requirement already satisfied: python-dotenv in /Users/dot/.pyenv/versions/3.10.16/lib/python3.10/site-packages (1.0.1)\n",
      "Collecting docx2txt\n",
      "  Using cached docx2txt-0.8.tar.gz (2.8 kB)\n",
      "  Installing build dependencies ... \u001b[?25ldone\n",
      "\u001b[?25h  Getting requirements to build wheel ... \u001b[?25ldone\n",
      "\u001b[?25h  Preparing metadata (pyproject.toml) ... \u001b[?25ldone\n",
      "\u001b[?25hRequirement already satisfied: langchain-core<1.0.0,>=0.3.34 in /Users/dot/.pyenv/versions/3.10.16/lib/python3.10/site-packages (from langchain) (0.3.35)\n",
      "Requirement already satisfied: langsmith<0.4,>=0.1.17 in /Users/dot/.pyenv/versions/3.10.16/lib/python3.10/site-packages (from langchain) (0.3.8)\n",
      "Requirement already satisfied: pydantic<3.0.0,>=2.7.4 in /Users/dot/.pyenv/versions/3.10.16/lib/python3.10/site-packages (from langchain) (2.10.6)\n",
      "Requirement already satisfied: SQLAlchemy<3,>=1.4 in /Users/dot/.pyenv/versions/3.10.16/lib/python3.10/site-packages (from langchain) (2.0.38)\n",
      "Requirement already satisfied: requests<3,>=2 in /Users/dot/.pyenv/versions/3.10.16/lib/python3.10/site-packages (from langchain) (2.32.3)\n",
      "Requirement already satisfied: PyYAML>=5.3 in /Users/dot/.pyenv/versions/3.10.16/lib/python3.10/site-packages (from langchain) (6.0.2)\n",
      "Requirement already satisfied: aiohttp<4.0.0,>=3.8.3 in /Users/dot/.pyenv/versions/3.10.16/lib/python3.10/site-packages (from langchain) (3.11.12)\n",
      "Requirement already satisfied: tenacity!=8.4.0,<10,>=8.1.0 in /Users/dot/.pyenv/versions/3.10.16/lib/python3.10/site-packages (from langchain) (9.0.0)\n",
      "Requirement already satisfied: numpy<2,>=1.26.4 in /Users/dot/.pyenv/versions/3.10.16/lib/python3.10/site-packages (from langchain) (1.26.4)\n",
      "Requirement already satisfied: async-timeout<5.0.0,>=4.0.0 in /Users/dot/.pyenv/versions/3.10.16/lib/python3.10/site-packages (from langchain) (4.0.3)\n",
      "Requirement already satisfied: dataclasses-json<0.7,>=0.5.7 in /Users/dot/.pyenv/versions/3.10.16/lib/python3.10/site-packages (from langchain-community) (0.6.7)\n",
      "Requirement already satisfied: pydantic-settings<3.0.0,>=2.4.0 in /Users/dot/.pyenv/versions/3.10.16/lib/python3.10/site-packages (from langchain-community) (2.7.1)\n",
      "Requirement already satisfied: httpx-sse<1.0.0,>=0.4.0 in /Users/dot/.pyenv/versions/3.10.16/lib/python3.10/site-packages (from langchain-community) (0.4.0)\n",
      "Requirement already satisfied: langchain-openai<0.4,>=0.3 in /Users/dot/.pyenv/versions/3.10.16/lib/python3.10/site-packages (from langchain-upstage) (0.3.6)\n",
      "Requirement already satisfied: pypdf<5.0.0,>=4.2.0 in /Users/dot/.pyenv/versions/3.10.16/lib/python3.10/site-packages (from langchain-upstage) (4.3.1)\n",
      "Requirement already satisfied: tokenizers<0.20.0,>=0.19.1 in /Users/dot/.pyenv/versions/3.10.16/lib/python3.10/site-packages (from langchain-upstage) (0.19.1)\n",
      "Requirement already satisfied: aiohappyeyeballs>=2.3.0 in /Users/dot/.pyenv/versions/3.10.16/lib/python3.10/site-packages (from aiohttp<4.0.0,>=3.8.3->langchain) (2.4.6)\n",
      "Requirement already satisfied: aiosignal>=1.1.2 in /Users/dot/.pyenv/versions/3.10.16/lib/python3.10/site-packages (from aiohttp<4.0.0,>=3.8.3->langchain) (1.3.2)\n",
      "Requirement already satisfied: attrs>=17.3.0 in /Users/dot/.pyenv/versions/3.10.16/lib/python3.10/site-packages (from aiohttp<4.0.0,>=3.8.3->langchain) (25.1.0)\n",
      "Requirement already satisfied: frozenlist>=1.1.1 in /Users/dot/.pyenv/versions/3.10.16/lib/python3.10/site-packages (from aiohttp<4.0.0,>=3.8.3->langchain) (1.5.0)\n",
      "Requirement already satisfied: multidict<7.0,>=4.5 in /Users/dot/.pyenv/versions/3.10.16/lib/python3.10/site-packages (from aiohttp<4.0.0,>=3.8.3->langchain) (6.1.0)\n",
      "Requirement already satisfied: propcache>=0.2.0 in /Users/dot/.pyenv/versions/3.10.16/lib/python3.10/site-packages (from aiohttp<4.0.0,>=3.8.3->langchain) (0.2.1)\n",
      "Requirement already satisfied: yarl<2.0,>=1.17.0 in /Users/dot/.pyenv/versions/3.10.16/lib/python3.10/site-packages (from aiohttp<4.0.0,>=3.8.3->langchain) (1.18.3)\n",
      "Requirement already satisfied: marshmallow<4.0.0,>=3.18.0 in /Users/dot/.pyenv/versions/3.10.16/lib/python3.10/site-packages (from dataclasses-json<0.7,>=0.5.7->langchain-community) (3.26.1)\n",
      "Requirement already satisfied: typing-inspect<1,>=0.4.0 in /Users/dot/.pyenv/versions/3.10.16/lib/python3.10/site-packages (from dataclasses-json<0.7,>=0.5.7->langchain-community) (0.9.0)\n",
      "Requirement already satisfied: jsonpatch<2.0,>=1.33 in /Users/dot/.pyenv/versions/3.10.16/lib/python3.10/site-packages (from langchain-core<1.0.0,>=0.3.34->langchain) (1.33)\n",
      "Requirement already satisfied: packaging<25,>=23.2 in /Users/dot/.pyenv/versions/3.10.16/lib/python3.10/site-packages (from langchain-core<1.0.0,>=0.3.34->langchain) (24.2)\n",
      "Requirement already satisfied: typing-extensions>=4.7 in /Users/dot/.pyenv/versions/3.10.16/lib/python3.10/site-packages (from langchain-core<1.0.0,>=0.3.34->langchain) (4.12.2)\n",
      "Requirement already satisfied: openai<2.0.0,>=1.58.1 in /Users/dot/.pyenv/versions/3.10.16/lib/python3.10/site-packages (from langchain-openai<0.4,>=0.3->langchain-upstage) (1.63.0)\n",
      "Requirement already satisfied: tiktoken<1,>=0.7 in /Users/dot/.pyenv/versions/3.10.16/lib/python3.10/site-packages (from langchain-openai<0.4,>=0.3->langchain-upstage) (0.9.0)\n",
      "Requirement already satisfied: httpx<1,>=0.23.0 in /Users/dot/.pyenv/versions/3.10.16/lib/python3.10/site-packages (from langsmith<0.4,>=0.1.17->langchain) (0.28.1)\n",
      "Requirement already satisfied: orjson<4.0.0,>=3.9.14 in /Users/dot/.pyenv/versions/3.10.16/lib/python3.10/site-packages (from langsmith<0.4,>=0.1.17->langchain) (3.10.15)\n",
      "Requirement already satisfied: requests-toolbelt<2.0.0,>=1.0.0 in /Users/dot/.pyenv/versions/3.10.16/lib/python3.10/site-packages (from langsmith<0.4,>=0.1.17->langchain) (1.0.0)\n",
      "Requirement already satisfied: zstandard<0.24.0,>=0.23.0 in /Users/dot/.pyenv/versions/3.10.16/lib/python3.10/site-packages (from langsmith<0.4,>=0.1.17->langchain) (0.23.0)\n",
      "Requirement already satisfied: annotated-types>=0.6.0 in /Users/dot/.pyenv/versions/3.10.16/lib/python3.10/site-packages (from pydantic<3.0.0,>=2.7.4->langchain) (0.7.0)\n",
      "Requirement already satisfied: pydantic-core==2.27.2 in /Users/dot/.pyenv/versions/3.10.16/lib/python3.10/site-packages (from pydantic<3.0.0,>=2.7.4->langchain) (2.27.2)\n",
      "Requirement already satisfied: charset-normalizer<4,>=2 in /Users/dot/.pyenv/versions/3.10.16/lib/python3.10/site-packages (from requests<3,>=2->langchain) (3.4.1)\n",
      "Requirement already satisfied: idna<4,>=2.5 in /Users/dot/.pyenv/versions/3.10.16/lib/python3.10/site-packages (from requests<3,>=2->langchain) (3.10)\n",
      "Requirement already satisfied: urllib3<3,>=1.21.1 in /Users/dot/.pyenv/versions/3.10.16/lib/python3.10/site-packages (from requests<3,>=2->langchain) (2.3.0)\n",
      "Requirement already satisfied: certifi>=2017.4.17 in /Users/dot/.pyenv/versions/3.10.16/lib/python3.10/site-packages (from requests<3,>=2->langchain) (2025.1.31)\n",
      "Requirement already satisfied: huggingface-hub<1.0,>=0.16.4 in /Users/dot/.pyenv/versions/3.10.16/lib/python3.10/site-packages (from tokenizers<0.20.0,>=0.19.1->langchain-upstage) (0.28.1)\n",
      "Requirement already satisfied: anyio in /Users/dot/.pyenv/versions/3.10.16/lib/python3.10/site-packages (from httpx<1,>=0.23.0->langsmith<0.4,>=0.1.17->langchain) (4.8.0)\n",
      "Requirement already satisfied: httpcore==1.* in /Users/dot/.pyenv/versions/3.10.16/lib/python3.10/site-packages (from httpx<1,>=0.23.0->langsmith<0.4,>=0.1.17->langchain) (1.0.7)\n",
      "Requirement already satisfied: h11<0.15,>=0.13 in /Users/dot/.pyenv/versions/3.10.16/lib/python3.10/site-packages (from httpcore==1.*->httpx<1,>=0.23.0->langsmith<0.4,>=0.1.17->langchain) (0.14.0)\n",
      "Requirement already satisfied: filelock in /Users/dot/.pyenv/versions/3.10.16/lib/python3.10/site-packages (from huggingface-hub<1.0,>=0.16.4->tokenizers<0.20.0,>=0.19.1->langchain-upstage) (3.17.0)\n",
      "Requirement already satisfied: fsspec>=2023.5.0 in /Users/dot/.pyenv/versions/3.10.16/lib/python3.10/site-packages (from huggingface-hub<1.0,>=0.16.4->tokenizers<0.20.0,>=0.19.1->langchain-upstage) (2025.2.0)\n",
      "Requirement already satisfied: tqdm>=4.42.1 in /Users/dot/.pyenv/versions/3.10.16/lib/python3.10/site-packages (from huggingface-hub<1.0,>=0.16.4->tokenizers<0.20.0,>=0.19.1->langchain-upstage) (4.67.1)\n",
      "Requirement already satisfied: jsonpointer>=1.9 in /Users/dot/.pyenv/versions/3.10.16/lib/python3.10/site-packages (from jsonpatch<2.0,>=1.33->langchain-core<1.0.0,>=0.3.34->langchain) (3.0.0)\n",
      "Requirement already satisfied: distro<2,>=1.7.0 in /Users/dot/.pyenv/versions/3.10.16/lib/python3.10/site-packages (from openai<2.0.0,>=1.58.1->langchain-openai<0.4,>=0.3->langchain-upstage) (1.9.0)\n",
      "Requirement already satisfied: jiter<1,>=0.4.0 in /Users/dot/.pyenv/versions/3.10.16/lib/python3.10/site-packages (from openai<2.0.0,>=1.58.1->langchain-openai<0.4,>=0.3->langchain-upstage) (0.8.2)\n",
      "Requirement already satisfied: sniffio in /Users/dot/.pyenv/versions/3.10.16/lib/python3.10/site-packages (from openai<2.0.0,>=1.58.1->langchain-openai<0.4,>=0.3->langchain-upstage) (1.3.1)\n",
      "Requirement already satisfied: regex>=2022.1.18 in /Users/dot/.pyenv/versions/3.10.16/lib/python3.10/site-packages (from tiktoken<1,>=0.7->langchain-openai<0.4,>=0.3->langchain-upstage) (2024.11.6)\n",
      "Requirement already satisfied: mypy-extensions>=0.3.0 in /Users/dot/.pyenv/versions/3.10.16/lib/python3.10/site-packages (from typing-inspect<1,>=0.4.0->dataclasses-json<0.7,>=0.5.7->langchain-community) (1.0.0)\n",
      "Requirement already satisfied: exceptiongroup>=1.0.2 in /Users/dot/.pyenv/versions/3.10.16/lib/python3.10/site-packages (from anyio->httpx<1,>=0.23.0->langsmith<0.4,>=0.1.17->langchain) (1.2.2)\n",
      "Building wheels for collected packages: docx2txt\n",
      "  Building wheel for docx2txt (pyproject.toml) ... \u001b[?25ldone\n",
      "\u001b[?25h  Created wheel for docx2txt: filename=docx2txt-0.8-py3-none-any.whl size=3990 sha256=b918803a625e95f99165ece6f203e6e2aadddce7c361fb3cb2beefbfdf0f49f1\n",
      "  Stored in directory: /Users/dot/Library/Caches/pip/wheels/22/58/cf/093d0a6c3ecfdfc5f6ddd5524043b88e59a9a199cb02352966\n",
      "Successfully built docx2txt\n",
      "Installing collected packages: docx2txt\n",
      "Successfully installed docx2txt-0.8\n",
      "Note: you may need to restart the kernel to use updated packages.\n"
     ]
    }
   ],
   "source": [
    "#%pip install --upgrade pip\n",
    "#%pip install langchain langchain-community langchain-upstage langchain-text-splitters python-dotenv docx2txt"
   ]
  },
  {
   "cell_type": "code",
   "execution_count": 3,
   "metadata": {},
   "outputs": [],
   "source": [
    "from langchain_community.document_loaders import Docx2txtLoader\n",
    "from langchain_text_splitters import RecursiveCharacterTextSplitter\n",
    "\n",
    "text_splitter = RecursiveCharacterTextSplitter(\n",
    "    chunk_size=1500,\n",
    "    chunk_overlap=200\n",
    ")\n",
    "\n",
    "loader = Docx2txtLoader('./tax.docx')\n",
    "document_list = loader.load_and_split(text_splitter)"
   ]
  },
  {
   "cell_type": "code",
   "execution_count": 4,
   "metadata": {},
   "outputs": [],
   "source": [
    "from dotenv import load_dotenv\n",
    "from langchain_upstage import UpstageEmbeddings\n",
    "\n",
    "load_dotenv()\n",
    "\n",
    "embedding = UpstageEmbeddings(model=\"solar-embedding-1-large\")"
   ]
  },
  {
   "cell_type": "code",
   "execution_count": 6,
   "metadata": {},
   "outputs": [
    {
     "name": "stdout",
     "output_type": "stream",
     "text": [
      "Note: you may need to restart the kernel to use updated packages.\n"
     ]
    }
   ],
   "source": [
    "%pip install --upgrade --quiet \\\n",
    "    langchain-pinecone\\\n",
    "        langchain-upstage\\\n",
    "            langchain\n"
   ]
  },
  {
   "cell_type": "code",
   "execution_count": 21,
   "metadata": {},
   "outputs": [],
   "source": [
    "import os\n",
    "from pinecone import Pinecone\n",
    "from langchain_pinecone import PineconeVectorStore\n",
    "\n",
    "pinecone_api_key = os.environ.get(\"PINECONE_API_KEY\")\n",
    "index_name = 'tax-index'\n",
    "\n",
    "pc = Pinecone(api_key=pinecone_api_key)\n",
    "\n",
    "database = PineconeVectorStore.from_documents(document_list, embedding, index_name=index_name)"
   ]
  },
  {
   "cell_type": "code",
   "execution_count": 22,
   "metadata": {},
   "outputs": [],
   "source": [
    "query = '연봉 5천만원인 직장인의 소득세는 얼마인가요?'\n",
    "#retrieved_docs = database.similarity_search(query, k=3)"
   ]
  },
  {
   "cell_type": "code",
   "execution_count": 23,
   "metadata": {},
   "outputs": [],
   "source": [
    "#retrieved_docs\n",
    "from langchain_upstage import ChatUpstage\n",
    "llm = ChatUpstage()"
   ]
  },
  {
   "cell_type": "code",
   "execution_count": 24,
   "metadata": {},
   "outputs": [
    {
     "data": {
      "text/plain": [
       "'\\nprompt = f\"\"\"\\n[Identity]\\n- 당신은 최고의 한국 소득세 전문가입니다.\\n- [Context]를 참고해서 사용자의 질문에 답변해주세요.\\n\\n[Context]\\n{retrieved_docs}\\n\\nQuestion: {query}\\n\"\"\"\\n'"
      ]
     },
     "execution_count": 24,
     "metadata": {},
     "output_type": "execute_result"
    }
   ],
   "source": [
    "'''\n",
    "prompt = f\"\"\"\n",
    "[Identity]\n",
    "- 당신은 최고의 한국 소득세 전문가입니다.\n",
    "- [Context]를 참고해서 사용자의 질문에 답변해주세요.\n",
    "\n",
    "[Context]\n",
    "{retrieved_docs}\n",
    "\n",
    "Question: {query}\n",
    "\"\"\"\n",
    "'''"
   ]
  },
  {
   "cell_type": "code",
   "execution_count": 25,
   "metadata": {},
   "outputs": [],
   "source": [
    "#ai_message = llm.invoke(prompt)\n",
    "#ai_message.content"
   ]
  },
  {
   "cell_type": "code",
   "execution_count": null,
   "metadata": {},
   "outputs": [],
   "source": [
    "#%pip install -U langchain langchainhub"
   ]
  },
  {
   "cell_type": "code",
   "execution_count": 26,
   "metadata": {},
   "outputs": [
    {
     "name": "stderr",
     "output_type": "stream",
     "text": [
      "/Users/dot/.pyenv/versions/3.10.16/lib/python3.10/site-packages/langsmith/client.py:253: LangSmithMissingAPIKeyWarning: API key must be provided when using hosted LangSmith API\n",
      "  warnings.warn(\n"
     ]
    }
   ],
   "source": [
    "from langchain import hub\n",
    "\n",
    "prompt = hub.pull(\"rlm/rag-prompt\")"
   ]
  },
  {
   "cell_type": "code",
   "execution_count": 30,
   "metadata": {},
   "outputs": [],
   "source": [
    "from langchain.chains import RetrievalQA\n",
    "\n",
    "retriever=database.as_retriever()\n",
    "\n",
    "qa_chain = RetrievalQA.from_chain_type(\n",
    "    llm,\n",
    "    retriever=retriever,\n",
    "    chain_type_kwargs={\"prompt\": prompt}\n",
    ")"
   ]
  },
  {
   "cell_type": "code",
   "execution_count": null,
   "metadata": {},
   "outputs": [],
   "source": [
    "retriever.invoke(query)"
   ]
  },
  {
   "cell_type": "code",
   "execution_count": 28,
   "metadata": {},
   "outputs": [
    {
     "name": "stderr",
     "output_type": "stream",
     "text": [
      "/var/folders/k9/8dy1v0jj3v90yfb4ymql2n400000gn/T/ipykernel_46816/3455095564.py:1: LangChainDeprecationWarning: The method `Chain.__call__` was deprecated in langchain 0.1.0 and will be removed in 1.0. Use :meth:`~invoke` instead.\n",
      "  ai_message = qa_chain({\"query\": query})\n"
     ]
    }
   ],
   "source": [
    "ai_message = qa_chain({\"query\": query})"
   ]
  },
  {
   "cell_type": "code",
   "execution_count": 29,
   "metadata": {},
   "outputs": [
    {
     "data": {
      "text/plain": [
       "{'query': '연봉 5천만원인 직장인의 소득세는 얼마인가요?',\n",
       " 'result': '근로소득이 있는 거주자에 대해서는 그 근로소득에 대한 종합소득산출세액에서 근로소득공제액을 공제합니다. 해당 공제액은 총급여액에 따라 달라지며, 총급여액이 7천만원 초과 1억2천만원 이하인 경우에는 66만원 - [(총급여액 - 7천만원) × 1/2]. 다만, 위 금액이 50만 원보다 적은 경우에는 50만원으로 합니다.'}"
      ]
     },
     "execution_count": 29,
     "metadata": {},
     "output_type": "execute_result"
    }
   ],
   "source": [
    "ai_message"
   ]
  }
 ],
 "metadata": {
  "kernelspec": {
   "display_name": "Python 3",
   "language": "python",
   "name": "python3"
  },
  "language_info": {
   "codemirror_mode": {
    "name": "ipython",
    "version": 3
   },
   "file_extension": ".py",
   "mimetype": "text/x-python",
   "name": "python",
   "nbconvert_exporter": "python",
   "pygments_lexer": "ipython3",
   "version": "3.10.16"
  }
 },
 "nbformat": 4,
 "nbformat_minor": 2
}
